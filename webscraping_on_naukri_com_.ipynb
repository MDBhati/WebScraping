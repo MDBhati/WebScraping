{
  "cells": [
    {
      "cell_type": "code",
      "execution_count": null,
      "id": "ecd6014a",
      "metadata": {
        "id": "ecd6014a"
      },
      "outputs": [],
      "source": [
        "# Import necessary libraries\n",
        "import requests\n",
        "from bs4 import BeautifulSoup\n",
        "from seleniumbase import Driver\n",
        "from selenium.webdriver.common.by import By\n",
        "import time\n",
        "import pandas as pd\n",
        "import numpy as np\n",
        "from warnings import filterwarnings\n",
        "filterwarnings('ignore')"
      ]
    },
    {
      "cell_type": "code",
      "execution_count": null,
      "id": "b0234262",
      "metadata": {
        "id": "b0234262"
      },
      "outputs": [],
      "source": [
        "# Create an empty list to store job data\n",
        "job_detail = []\n",
        "\n",
        "# Initialize the SeleniumBase driver\n",
        "driver = Driver()\n",
        "\n",
        "# Loop through multiple pages of job listings (2 to 51)\n",
        "for i in range(2, 52):\n",
        "    # Construct the URL for the job listings page\n",
        "    url = f'https://www.naukri.com/data-science-jobs{-i}?k=data%20science'\n",
        "\n",
        "    # Navigate to the job listings page\n",
        "    driver.get(url)\n",
        "\n",
        "    # Set an implicit wait time of 20 seconds for elements to load\n",
        "    driver.implicitly_wait(20)\n",
        "\n",
        "    # Find all the job listing elements on the page\n",
        "    job_wrappers = driver.find_elements(By.CLASS_NAME, \"srp-jobtuple-wrapper\")\n",
        "\n",
        "    # Loop through each job listing\n",
        "    for job in job_wrappers:\n",
        "        try:\n",
        "            # Extract the job title\n",
        "            title = job.find_element(By.CLASS_NAME, \"title\").text\n",
        "        except Exception as e:\n",
        "            title = np.nan\n",
        "\n",
        "        try:\n",
        "            # Extract company name, rating, and reviews\n",
        "            cname_rating_rev = job.find_element(By.CLASS_NAME, \"row2\").text.split('\\n')\n",
        "            company_name = cname_rating_rev[0]\n",
        "            rating = cname_rating_rev[1]\n",
        "            reviews = cname_rating_rev[2]\n",
        "        except Exception as e:\n",
        "            company_name = np.nan\n",
        "            rating = np.nan\n",
        "            reviews = np.nan\n",
        "\n",
        "        try:\n",
        "            # Extract experience, salary, and location\n",
        "            exp_sal_loc = job.find_element(By.CLASS_NAME, 'row3').text.split(\"\\n\")\n",
        "            exp = exp_sal_loc[0]\n",
        "            sal = exp_sal_loc[1]\n",
        "            loc = exp_sal_loc[-1]\n",
        "        except Exception as e:\n",
        "            exp = np.nan\n",
        "            sal = np.nan\n",
        "            loc = np.nan\n",
        "\n",
        "        # Append the job data to the list\n",
        "        job_detail.append({\n",
        "            'Title': title,\n",
        "            'Company Name': company_name,\n",
        "            'Rating': rating,\n",
        "            'Reviews': reviews,\n",
        "            'Experience': exp,\n",
        "            'Salary': sal,\n",
        "            'Location': loc\n",
        "        })\n",
        "\n",
        "    # Pause for 15 seconds to avoid overloading the website\n",
        "    time.sleep(15)\n",
        "\n",
        "# Close the SeleniumBase driver\n",
        "driver.close()\n"
      ]
    },
    {
      "cell_type": "code",
      "execution_count": null,
      "id": "77e28c5d",
      "metadata": {
        "id": "77e28c5d"
      },
      "outputs": [],
      "source": [
        "jobs = pd.DataFrame(job_detail)"
      ]
    },
    {
      "cell_type": "code",
      "execution_count": null,
      "id": "52c01527",
      "metadata": {
        "id": "52c01527",
        "outputId": "47809b1a-06ba-4039-fd92-e5b78c9a2142"
      },
      "outputs": [
        {
          "data": {
            "text/plain": [
              "(1000, 7)"
            ]
          },
          "execution_count": 138,
          "metadata": {},
          "output_type": "execute_result"
        }
      ],
      "source": [
        "jobs.shape"
      ]
    },
    {
      "cell_type": "code",
      "execution_count": null,
      "id": "1baec691",
      "metadata": {
        "id": "1baec691",
        "outputId": "14a9e761-86e0-4d21-a2a8-8ff5636f4f4a"
      },
      "outputs": [
        {
          "data": {
            "text/html": [
              "<div>\n",
              "<style scoped>\n",
              "    .dataframe tbody tr th:only-of-type {\n",
              "        vertical-align: middle;\n",
              "    }\n",
              "\n",
              "    .dataframe tbody tr th {\n",
              "        vertical-align: top;\n",
              "    }\n",
              "\n",
              "    .dataframe thead th {\n",
              "        text-align: right;\n",
              "    }\n",
              "</style>\n",
              "<table border=\"1\" class=\"dataframe\">\n",
              "  <thead>\n",
              "    <tr style=\"text-align: right;\">\n",
              "      <th></th>\n",
              "      <th>Title</th>\n",
              "      <th>Company Name</th>\n",
              "      <th>Rating</th>\n",
              "      <th>Reviews</th>\n",
              "      <th>Experience</th>\n",
              "      <th>Salary</th>\n",
              "      <th>Location</th>\n",
              "    </tr>\n",
              "  </thead>\n",
              "  <tbody>\n",
              "    <tr>\n",
              "      <th>0</th>\n",
              "      <td>Data Science (Generative AI) - Senior Manager ...</td>\n",
              "      <td>PwC</td>\n",
              "      <td>3.6</td>\n",
              "      <td>6413 Reviews</td>\n",
              "      <td>12-20 Yrs</td>\n",
              "      <td>Not disclosed</td>\n",
              "      <td>Hyderabad/Secunderabad, Bangalore/Bengaluru</td>\n",
              "    </tr>\n",
              "    <tr>\n",
              "      <th>1</th>\n",
              "      <td>Consultant - Data Science DT</td>\n",
              "      <td>Eli Lilly And Company</td>\n",
              "      <td>4.2</td>\n",
              "      <td>320 Reviews</td>\n",
              "      <td>1-5 Yrs</td>\n",
              "      <td>Not disclosed</td>\n",
              "      <td>Bangalore/Bengaluru</td>\n",
              "    </tr>\n",
              "    <tr>\n",
              "      <th>2</th>\n",
              "      <td>Analyst - Data Science</td>\n",
              "      <td>Marsh McLennan Companies</td>\n",
              "      <td>4.1</td>\n",
              "      <td>465 Reviews</td>\n",
              "      <td>1-3 Yrs</td>\n",
              "      <td>Not disclosed</td>\n",
              "      <td>Mumbai</td>\n",
              "    </tr>\n",
              "    <tr>\n",
              "      <th>3</th>\n",
              "      <td>Analyst - Data Science</td>\n",
              "      <td>Jardine Lloyd Thompson</td>\n",
              "      <td>4.1</td>\n",
              "      <td>465 Reviews</td>\n",
              "      <td>1-3 Yrs</td>\n",
              "      <td>Not disclosed</td>\n",
              "      <td>Mumbai</td>\n",
              "    </tr>\n",
              "    <tr>\n",
              "      <th>4</th>\n",
              "      <td>Data Science Domain Manager</td>\n",
              "      <td>Coursera</td>\n",
              "      <td>3.9</td>\n",
              "      <td>17 Reviews</td>\n",
              "      <td>7-11 Yrs</td>\n",
              "      <td>Not disclosed</td>\n",
              "      <td>Kolkata, Mumbai, New Delhi, Hyderabad/Secunder...</td>\n",
              "    </tr>\n",
              "  </tbody>\n",
              "</table>\n",
              "</div>"
            ],
            "text/plain": [
              "                                               Title  \\\n",
              "0  Data Science (Generative AI) - Senior Manager ...   \n",
              "1                       Consultant - Data Science DT   \n",
              "2                             Analyst - Data Science   \n",
              "3                             Analyst - Data Science   \n",
              "4                        Data Science Domain Manager   \n",
              "\n",
              "               Company Name Rating       Reviews Experience         Salary  \\\n",
              "0                       PwC    3.6  6413 Reviews  12-20 Yrs  Not disclosed   \n",
              "1     Eli Lilly And Company    4.2   320 Reviews    1-5 Yrs  Not disclosed   \n",
              "2  Marsh McLennan Companies    4.1   465 Reviews    1-3 Yrs  Not disclosed   \n",
              "3    Jardine Lloyd Thompson    4.1   465 Reviews    1-3 Yrs  Not disclosed   \n",
              "4                  Coursera    3.9    17 Reviews   7-11 Yrs  Not disclosed   \n",
              "\n",
              "                                            Location  \n",
              "0        Hyderabad/Secunderabad, Bangalore/Bengaluru  \n",
              "1                                Bangalore/Bengaluru  \n",
              "2                                             Mumbai  \n",
              "3                                             Mumbai  \n",
              "4  Kolkata, Mumbai, New Delhi, Hyderabad/Secunder...  "
            ]
          },
          "execution_count": 130,
          "metadata": {},
          "output_type": "execute_result"
        }
      ],
      "source": [
        "jobs.head()"
      ]
    },
    {
      "cell_type": "code",
      "execution_count": null,
      "id": "42e789fe",
      "metadata": {
        "id": "42e789fe",
        "outputId": "0c5feea3-a365-46f4-89a5-4dc384d752b1"
      },
      "outputs": [
        {
          "name": "stdout",
          "output_type": "stream",
          "text": [
            "<class 'pandas.core.frame.DataFrame'>\n",
            "RangeIndex: 1000 entries, 0 to 999\n",
            "Data columns (total 7 columns):\n",
            " #   Column        Non-Null Count  Dtype \n",
            "---  ------        --------------  ----- \n",
            " 0   Title         1000 non-null   object\n",
            " 1   Company Name  717 non-null    object\n",
            " 2   Rating        717 non-null    object\n",
            " 3   Reviews       717 non-null    object\n",
            " 4   Experience    1000 non-null   object\n",
            " 5   Salary        1000 non-null   object\n",
            " 6   Location      1000 non-null   object\n",
            "dtypes: object(7)\n",
            "memory usage: 54.8+ KB\n"
          ]
        }
      ],
      "source": [
        "jobs.info()"
      ]
    },
    {
      "cell_type": "code",
      "execution_count": null,
      "id": "9cb4bcb2",
      "metadata": {
        "id": "9cb4bcb2"
      },
      "outputs": [],
      "source": [
        "# removing duplicate rows\n",
        "jobs  = jobs[~ jobs.duplicated()]"
      ]
    },
    {
      "cell_type": "code",
      "execution_count": null,
      "id": "0e57ea66",
      "metadata": {
        "id": "0e57ea66"
      },
      "outputs": [],
      "source": [
        "# Remove missing values's row because in 283 rows company name is missing.\n",
        "jobs =  jobs[~jobs['Company Name'].isna()].reset_index(drop=True)"
      ]
    },
    {
      "cell_type": "code",
      "execution_count": null,
      "id": "ab8a53d1",
      "metadata": {
        "id": "ab8a53d1"
      },
      "outputs": [],
      "source": [
        "jobs[['Review','col1']] = jobs['Reviews'].str.split(' ',1,expand=True)\n",
        "jobs[['min_exp','col2']] = jobs['Experience'].str.split('-',1,expand=True)\n",
        "jobs = jobs.drop(['Reviews','Experience','col1','col2'],axis=1)"
      ]
    },
    {
      "cell_type": "code",
      "execution_count": null,
      "id": "ba04ce45",
      "metadata": {
        "id": "ba04ce45",
        "outputId": "24817be1-dfb1-4734-d9f2-499a88bf2a11"
      },
      "outputs": [
        {
          "data": {
            "text/html": [
              "<div>\n",
              "<style scoped>\n",
              "    .dataframe tbody tr th:only-of-type {\n",
              "        vertical-align: middle;\n",
              "    }\n",
              "\n",
              "    .dataframe tbody tr th {\n",
              "        vertical-align: top;\n",
              "    }\n",
              "\n",
              "    .dataframe thead th {\n",
              "        text-align: right;\n",
              "    }\n",
              "</style>\n",
              "<table border=\"1\" class=\"dataframe\">\n",
              "  <thead>\n",
              "    <tr style=\"text-align: right;\">\n",
              "      <th></th>\n",
              "      <th>Title</th>\n",
              "      <th>Company Name</th>\n",
              "      <th>Rating</th>\n",
              "      <th>Salary</th>\n",
              "      <th>Location</th>\n",
              "      <th>Review</th>\n",
              "      <th>min_exp</th>\n",
              "    </tr>\n",
              "  </thead>\n",
              "  <tbody>\n",
              "    <tr>\n",
              "      <th>0</th>\n",
              "      <td>Data Science (Generative AI) - Senior Manager ...</td>\n",
              "      <td>PwC</td>\n",
              "      <td>3.6</td>\n",
              "      <td>Not disclosed</td>\n",
              "      <td>Hyderabad/Secunderabad, Bangalore/Bengaluru</td>\n",
              "      <td>6413</td>\n",
              "      <td>12</td>\n",
              "    </tr>\n",
              "    <tr>\n",
              "      <th>1</th>\n",
              "      <td>Consultant - Data Science DT</td>\n",
              "      <td>Eli Lilly And Company</td>\n",
              "      <td>4.2</td>\n",
              "      <td>Not disclosed</td>\n",
              "      <td>Bangalore/Bengaluru</td>\n",
              "      <td>320</td>\n",
              "      <td>1</td>\n",
              "    </tr>\n",
              "    <tr>\n",
              "      <th>2</th>\n",
              "      <td>Analyst - Data Science</td>\n",
              "      <td>Marsh McLennan Companies</td>\n",
              "      <td>4.1</td>\n",
              "      <td>Not disclosed</td>\n",
              "      <td>Mumbai</td>\n",
              "      <td>465</td>\n",
              "      <td>1</td>\n",
              "    </tr>\n",
              "    <tr>\n",
              "      <th>3</th>\n",
              "      <td>Analyst - Data Science</td>\n",
              "      <td>Jardine Lloyd Thompson</td>\n",
              "      <td>4.1</td>\n",
              "      <td>Not disclosed</td>\n",
              "      <td>Mumbai</td>\n",
              "      <td>465</td>\n",
              "      <td>1</td>\n",
              "    </tr>\n",
              "    <tr>\n",
              "      <th>4</th>\n",
              "      <td>Data Science Domain Manager</td>\n",
              "      <td>Coursera</td>\n",
              "      <td>3.9</td>\n",
              "      <td>Not disclosed</td>\n",
              "      <td>Kolkata, Mumbai, New Delhi, Hyderabad/Secunder...</td>\n",
              "      <td>17</td>\n",
              "      <td>7</td>\n",
              "    </tr>\n",
              "    <tr>\n",
              "      <th>...</th>\n",
              "      <td>...</td>\n",
              "      <td>...</td>\n",
              "      <td>...</td>\n",
              "      <td>...</td>\n",
              "      <td>...</td>\n",
              "      <td>...</td>\n",
              "      <td>...</td>\n",
              "    </tr>\n",
              "    <tr>\n",
              "      <th>706</th>\n",
              "      <td>Data Analyst</td>\n",
              "      <td>Medtronic</td>\n",
              "      <td>4.0</td>\n",
              "      <td>Not disclosed</td>\n",
              "      <td>Hyderabad/Secunderabad</td>\n",
              "      <td>426</td>\n",
              "      <td>4</td>\n",
              "    </tr>\n",
              "    <tr>\n",
              "      <th>707</th>\n",
              "      <td>SRM Data Analyst</td>\n",
              "      <td>General Mills</td>\n",
              "      <td>4.2</td>\n",
              "      <td>Not disclosed</td>\n",
              "      <td>Mumbai</td>\n",
              "      <td>615</td>\n",
              "      <td>1</td>\n",
              "    </tr>\n",
              "    <tr>\n",
              "      <th>708</th>\n",
              "      <td>Data Analyst</td>\n",
              "      <td>SVKM's Narsee Monjee Institute of Management S...</td>\n",
              "      <td>4.5</td>\n",
              "      <td>Not disclosed</td>\n",
              "      <td>Mumbai</td>\n",
              "      <td>11</td>\n",
              "      <td>3</td>\n",
              "    </tr>\n",
              "    <tr>\n",
              "      <th>709</th>\n",
              "      <td>Data Analyst</td>\n",
              "      <td>Rpa Infotech</td>\n",
              "      <td>3.0</td>\n",
              "      <td>Not disclosed</td>\n",
              "      <td>Gurgaon/Gurugram</td>\n",
              "      <td>16</td>\n",
              "      <td>1</td>\n",
              "    </tr>\n",
              "    <tr>\n",
              "      <th>710</th>\n",
              "      <td>Data Analyst</td>\n",
              "      <td>Essenware</td>\n",
              "      <td>4.6</td>\n",
              "      <td>Not disclosed</td>\n",
              "      <td>Mumbai</td>\n",
              "      <td>3</td>\n",
              "      <td>1</td>\n",
              "    </tr>\n",
              "  </tbody>\n",
              "</table>\n",
              "<p>711 rows × 7 columns</p>\n",
              "</div>"
            ],
            "text/plain": [
              "                                                 Title  \\\n",
              "0    Data Science (Generative AI) - Senior Manager ...   \n",
              "1                         Consultant - Data Science DT   \n",
              "2                               Analyst - Data Science   \n",
              "3                               Analyst - Data Science   \n",
              "4                          Data Science Domain Manager   \n",
              "..                                                 ...   \n",
              "706                                       Data Analyst   \n",
              "707                                   SRM Data Analyst   \n",
              "708                                       Data Analyst   \n",
              "709                                       Data Analyst   \n",
              "710                                       Data Analyst   \n",
              "\n",
              "                                          Company Name Rating         Salary  \\\n",
              "0                                                  PwC    3.6  Not disclosed   \n",
              "1                                Eli Lilly And Company    4.2  Not disclosed   \n",
              "2                             Marsh McLennan Companies    4.1  Not disclosed   \n",
              "3                               Jardine Lloyd Thompson    4.1  Not disclosed   \n",
              "4                                             Coursera    3.9  Not disclosed   \n",
              "..                                                 ...    ...            ...   \n",
              "706                                          Medtronic    4.0  Not disclosed   \n",
              "707                                      General Mills    4.2  Not disclosed   \n",
              "708  SVKM's Narsee Monjee Institute of Management S...    4.5  Not disclosed   \n",
              "709                                       Rpa Infotech    3.0  Not disclosed   \n",
              "710                                          Essenware    4.6  Not disclosed   \n",
              "\n",
              "                                              Location Review min_exp  \n",
              "0          Hyderabad/Secunderabad, Bangalore/Bengaluru   6413      12  \n",
              "1                                  Bangalore/Bengaluru    320       1  \n",
              "2                                               Mumbai    465       1  \n",
              "3                                               Mumbai    465       1  \n",
              "4    Kolkata, Mumbai, New Delhi, Hyderabad/Secunder...     17       7  \n",
              "..                                                 ...    ...     ...  \n",
              "706                             Hyderabad/Secunderabad    426       4  \n",
              "707                                             Mumbai    615       1  \n",
              "708                                             Mumbai     11       3  \n",
              "709                                   Gurgaon/Gurugram     16       1  \n",
              "710                                             Mumbai      3       1  \n",
              "\n",
              "[711 rows x 7 columns]"
            ]
          },
          "execution_count": 144,
          "metadata": {},
          "output_type": "execute_result"
        }
      ],
      "source": [
        "jobs"
      ]
    },
    {
      "cell_type": "code",
      "execution_count": null,
      "id": "7ddf3e4b",
      "metadata": {
        "id": "7ddf3e4b",
        "outputId": "ff54befe-0c2d-4af6-9490-ccdac8e6938b"
      },
      "outputs": [
        {
          "data": {
            "text/plain": [
              "array(['12', '1', '7', '5', '3', '8', '10', '4', '2', '0', '6',\n",
              "       'No fixed duration', '6 months duration', '11', '9', '15',\n",
              "       '3 months duration', '16', 'MS/M.Sc(Science), MCA, B.Tech/B.E.',\n",
              "       'Any Graduate'], dtype=object)"
            ]
          },
          "execution_count": 152,
          "metadata": {},
          "output_type": "execute_result"
        }
      ],
      "source": [
        "jobs.min_exp.unique()"
      ]
    },
    {
      "cell_type": "code",
      "execution_count": null,
      "id": "510ad58f",
      "metadata": {
        "id": "510ad58f"
      },
      "outputs": [],
      "source": [
        "incorrect_exp = ['MS/M.Sc(Science), MCA, B.Tech/B.E.','3 months duration','No fixed duration','6 months duration','3 months duration','Any Graduate']"
      ]
    },
    {
      "cell_type": "code",
      "execution_count": null,
      "id": "cefa597f",
      "metadata": {
        "id": "cefa597f"
      },
      "outputs": [],
      "source": [
        "jobs  =  jobs[~jobs['min_exp'].isin(incorrect_exp)].reset_index(drop=True)"
      ]
    },
    {
      "cell_type": "code",
      "execution_count": null,
      "id": "583241a1",
      "metadata": {
        "id": "583241a1",
        "outputId": "ba2bb421-e599-44b5-b651-786cd331a8e6"
      },
      "outputs": [
        {
          "data": {
            "text/html": [
              "<div>\n",
              "<style scoped>\n",
              "    .dataframe tbody tr th:only-of-type {\n",
              "        vertical-align: middle;\n",
              "    }\n",
              "\n",
              "    .dataframe tbody tr th {\n",
              "        vertical-align: top;\n",
              "    }\n",
              "\n",
              "    .dataframe thead th {\n",
              "        text-align: right;\n",
              "    }\n",
              "</style>\n",
              "<table border=\"1\" class=\"dataframe\">\n",
              "  <thead>\n",
              "    <tr style=\"text-align: right;\">\n",
              "      <th></th>\n",
              "      <th>Title</th>\n",
              "      <th>Company Name</th>\n",
              "      <th>Rating</th>\n",
              "      <th>Salary</th>\n",
              "      <th>Location</th>\n",
              "      <th>Review</th>\n",
              "      <th>min_exp</th>\n",
              "    </tr>\n",
              "  </thead>\n",
              "  <tbody>\n",
              "    <tr>\n",
              "      <th>0</th>\n",
              "      <td>Data Science (Generative AI) - Senior Manager ...</td>\n",
              "      <td>PwC</td>\n",
              "      <td>3.6</td>\n",
              "      <td>Not disclosed</td>\n",
              "      <td>Hyderabad/Secunderabad, Bangalore/Bengaluru</td>\n",
              "      <td>6413</td>\n",
              "      <td>12</td>\n",
              "    </tr>\n",
              "    <tr>\n",
              "      <th>1</th>\n",
              "      <td>Consultant - Data Science DT</td>\n",
              "      <td>Eli Lilly And Company</td>\n",
              "      <td>4.2</td>\n",
              "      <td>Not disclosed</td>\n",
              "      <td>Bangalore/Bengaluru</td>\n",
              "      <td>320</td>\n",
              "      <td>1</td>\n",
              "    </tr>\n",
              "    <tr>\n",
              "      <th>2</th>\n",
              "      <td>Analyst - Data Science</td>\n",
              "      <td>Marsh McLennan Companies</td>\n",
              "      <td>4.1</td>\n",
              "      <td>Not disclosed</td>\n",
              "      <td>Mumbai</td>\n",
              "      <td>465</td>\n",
              "      <td>1</td>\n",
              "    </tr>\n",
              "    <tr>\n",
              "      <th>3</th>\n",
              "      <td>Analyst - Data Science</td>\n",
              "      <td>Jardine Lloyd Thompson</td>\n",
              "      <td>4.1</td>\n",
              "      <td>Not disclosed</td>\n",
              "      <td>Mumbai</td>\n",
              "      <td>465</td>\n",
              "      <td>1</td>\n",
              "    </tr>\n",
              "    <tr>\n",
              "      <th>4</th>\n",
              "      <td>Data Science Domain Manager</td>\n",
              "      <td>Coursera</td>\n",
              "      <td>3.9</td>\n",
              "      <td>Not disclosed</td>\n",
              "      <td>Kolkata, Mumbai, New Delhi, Hyderabad/Secunder...</td>\n",
              "      <td>17</td>\n",
              "      <td>7</td>\n",
              "    </tr>\n",
              "    <tr>\n",
              "      <th>...</th>\n",
              "      <td>...</td>\n",
              "      <td>...</td>\n",
              "      <td>...</td>\n",
              "      <td>...</td>\n",
              "      <td>...</td>\n",
              "      <td>...</td>\n",
              "      <td>...</td>\n",
              "    </tr>\n",
              "    <tr>\n",
              "      <th>696</th>\n",
              "      <td>Data Analyst</td>\n",
              "      <td>Medtronic</td>\n",
              "      <td>4.0</td>\n",
              "      <td>Not disclosed</td>\n",
              "      <td>Hyderabad/Secunderabad</td>\n",
              "      <td>426</td>\n",
              "      <td>4</td>\n",
              "    </tr>\n",
              "    <tr>\n",
              "      <th>697</th>\n",
              "      <td>SRM Data Analyst</td>\n",
              "      <td>General Mills</td>\n",
              "      <td>4.2</td>\n",
              "      <td>Not disclosed</td>\n",
              "      <td>Mumbai</td>\n",
              "      <td>615</td>\n",
              "      <td>1</td>\n",
              "    </tr>\n",
              "    <tr>\n",
              "      <th>698</th>\n",
              "      <td>Data Analyst</td>\n",
              "      <td>SVKM's Narsee Monjee Institute of Management S...</td>\n",
              "      <td>4.5</td>\n",
              "      <td>Not disclosed</td>\n",
              "      <td>Mumbai</td>\n",
              "      <td>11</td>\n",
              "      <td>3</td>\n",
              "    </tr>\n",
              "    <tr>\n",
              "      <th>699</th>\n",
              "      <td>Data Analyst</td>\n",
              "      <td>Rpa Infotech</td>\n",
              "      <td>3.0</td>\n",
              "      <td>Not disclosed</td>\n",
              "      <td>Gurgaon/Gurugram</td>\n",
              "      <td>16</td>\n",
              "      <td>1</td>\n",
              "    </tr>\n",
              "    <tr>\n",
              "      <th>700</th>\n",
              "      <td>Data Analyst</td>\n",
              "      <td>Essenware</td>\n",
              "      <td>4.6</td>\n",
              "      <td>Not disclosed</td>\n",
              "      <td>Mumbai</td>\n",
              "      <td>3</td>\n",
              "      <td>1</td>\n",
              "    </tr>\n",
              "  </tbody>\n",
              "</table>\n",
              "<p>701 rows × 7 columns</p>\n",
              "</div>"
            ],
            "text/plain": [
              "                                                 Title  \\\n",
              "0    Data Science (Generative AI) - Senior Manager ...   \n",
              "1                         Consultant - Data Science DT   \n",
              "2                               Analyst - Data Science   \n",
              "3                               Analyst - Data Science   \n",
              "4                          Data Science Domain Manager   \n",
              "..                                                 ...   \n",
              "696                                       Data Analyst   \n",
              "697                                   SRM Data Analyst   \n",
              "698                                       Data Analyst   \n",
              "699                                       Data Analyst   \n",
              "700                                       Data Analyst   \n",
              "\n",
              "                                          Company Name Rating         Salary  \\\n",
              "0                                                  PwC    3.6  Not disclosed   \n",
              "1                                Eli Lilly And Company    4.2  Not disclosed   \n",
              "2                             Marsh McLennan Companies    4.1  Not disclosed   \n",
              "3                               Jardine Lloyd Thompson    4.1  Not disclosed   \n",
              "4                                             Coursera    3.9  Not disclosed   \n",
              "..                                                 ...    ...            ...   \n",
              "696                                          Medtronic    4.0  Not disclosed   \n",
              "697                                      General Mills    4.2  Not disclosed   \n",
              "698  SVKM's Narsee Monjee Institute of Management S...    4.5  Not disclosed   \n",
              "699                                       Rpa Infotech    3.0  Not disclosed   \n",
              "700                                          Essenware    4.6  Not disclosed   \n",
              "\n",
              "                                              Location Review min_exp  \n",
              "0          Hyderabad/Secunderabad, Bangalore/Bengaluru   6413      12  \n",
              "1                                  Bangalore/Bengaluru    320       1  \n",
              "2                                               Mumbai    465       1  \n",
              "3                                               Mumbai    465       1  \n",
              "4    Kolkata, Mumbai, New Delhi, Hyderabad/Secunder...     17       7  \n",
              "..                                                 ...    ...     ...  \n",
              "696                             Hyderabad/Secunderabad    426       4  \n",
              "697                                             Mumbai    615       1  \n",
              "698                                             Mumbai     11       3  \n",
              "699                                   Gurgaon/Gurugram     16       1  \n",
              "700                                             Mumbai      3       1  \n",
              "\n",
              "[701 rows x 7 columns]"
            ]
          },
          "execution_count": 171,
          "metadata": {},
          "output_type": "execute_result"
        }
      ],
      "source": [
        "jobs"
      ]
    },
    {
      "cell_type": "markdown",
      "id": "f5e69b90",
      "metadata": {
        "id": "f5e69b90"
      },
      "source": [
        "\n",
        "### The most common job titles in the dataset"
      ]
    },
    {
      "cell_type": "code",
      "execution_count": null,
      "id": "1bf219eb",
      "metadata": {
        "id": "1bf219eb",
        "outputId": "d3504ea1-37c7-43e5-db20-e205e7a02661"
      },
      "outputs": [
        {
          "data": {
            "text/html": [
              "<div>\n",
              "<style scoped>\n",
              "    .dataframe tbody tr th:only-of-type {\n",
              "        vertical-align: middle;\n",
              "    }\n",
              "\n",
              "    .dataframe tbody tr th {\n",
              "        vertical-align: top;\n",
              "    }\n",
              "\n",
              "    .dataframe thead th {\n",
              "        text-align: right;\n",
              "    }\n",
              "</style>\n",
              "<table border=\"1\" class=\"dataframe\">\n",
              "  <thead>\n",
              "    <tr style=\"text-align: right;\">\n",
              "      <th></th>\n",
              "      <th>Count</th>\n",
              "    </tr>\n",
              "  </thead>\n",
              "  <tbody>\n",
              "    <tr>\n",
              "      <th>Data Scientist</th>\n",
              "      <td>97</td>\n",
              "    </tr>\n",
              "    <tr>\n",
              "      <th>Data Analyst</th>\n",
              "      <td>86</td>\n",
              "    </tr>\n",
              "    <tr>\n",
              "      <th>Senior Data Scientist</th>\n",
              "      <td>28</td>\n",
              "    </tr>\n",
              "    <tr>\n",
              "      <th>Senior Data Analyst</th>\n",
              "      <td>16</td>\n",
              "    </tr>\n",
              "    <tr>\n",
              "      <th>Lead Data Scientist</th>\n",
              "      <td>11</td>\n",
              "    </tr>\n",
              "    <tr>\n",
              "      <th>Data Science Manager</th>\n",
              "      <td>8</td>\n",
              "    </tr>\n",
              "    <tr>\n",
              "      <th>Data Science Engineer</th>\n",
              "      <td>7</td>\n",
              "    </tr>\n",
              "    <tr>\n",
              "      <th>Data Science Professional</th>\n",
              "      <td>7</td>\n",
              "    </tr>\n",
              "    <tr>\n",
              "      <th>Sr. Data Scientist</th>\n",
              "      <td>5</td>\n",
              "    </tr>\n",
              "    <tr>\n",
              "      <th>Data Science Lead</th>\n",
              "      <td>4</td>\n",
              "    </tr>\n",
              "  </tbody>\n",
              "</table>\n",
              "</div>"
            ],
            "text/plain": [
              "                           Count\n",
              "Data Scientist                97\n",
              "Data Analyst                  86\n",
              "Senior Data Scientist         28\n",
              "Senior Data Analyst           16\n",
              "Lead Data Scientist           11\n",
              "Data Science Manager           8\n",
              "Data Science Engineer          7\n",
              "Data Science Professional      7\n",
              "Sr. Data Scientist             5\n",
              "Data Science Lead              4"
            ]
          },
          "execution_count": 175,
          "metadata": {},
          "output_type": "execute_result"
        }
      ],
      "source": [
        "top_10_job_title = pd.DataFrame(df['Title'].value_counts()[:10]).rename(columns={'Title':'Count'})\n",
        "top_10_job_title"
      ]
    },
    {
      "cell_type": "markdown",
      "id": "2ae69385",
      "metadata": {
        "id": "2ae69385"
      },
      "source": [
        "- In this dataset most common job titles are **Data Scientist** then **Data Analyst**."
      ]
    },
    {
      "cell_type": "code",
      "execution_count": null,
      "id": "c9e2d17d",
      "metadata": {
        "id": "c9e2d17d",
        "outputId": "3ea2ad70-fcfb-4e2b-8a17-5d5216b1a0f9"
      },
      "outputs": [
        {
          "data": {
            "image/png": "[encoded data removed]",
            "text/plain": [
              "<Figure size 1000x600 with 1 Axes>"
            ]
          },
          "metadata": {
            "needs_background": "light"
          },
          "output_type": "display_data"
        }
      ],
      "source": [
        "import matplotlib.pyplot as plt\n",
        "import seaborn as sns\n",
        "plt.figure(figsize=(10,6),dpi=100)\n",
        "sns.barplot(data=top_10_job_title,x=top_10_job_title.index,y='Count')\n",
        "plt.xticks(rotation=90)\n",
        "plt.title('Most Common Job title')\n",
        "plt.show()"
      ]
    },
    {
      "cell_type": "markdown",
      "id": "77203342",
      "metadata": {
        "id": "77203342"
      },
      "source": [
        "###  Top 10  most common companies offering data science jobs"
      ]
    },
    {
      "cell_type": "code",
      "execution_count": null,
      "id": "b0b3df8d",
      "metadata": {
        "id": "b0b3df8d",
        "outputId": "6b575b49-845d-47a0-acce-10d6a96f62fc"
      },
      "outputs": [
        {
          "data": {
            "text/html": [
              "<div>\n",
              "<style scoped>\n",
              "    .dataframe tbody tr th:only-of-type {\n",
              "        vertical-align: middle;\n",
              "    }\n",
              "\n",
              "    .dataframe tbody tr th {\n",
              "        vertical-align: top;\n",
              "    }\n",
              "\n",
              "    .dataframe thead th {\n",
              "        text-align: right;\n",
              "    }\n",
              "</style>\n",
              "<table border=\"1\" class=\"dataframe\">\n",
              "  <thead>\n",
              "    <tr style=\"text-align: right;\">\n",
              "      <th></th>\n",
              "      <th>Company Name</th>\n",
              "    </tr>\n",
              "  </thead>\n",
              "  <tbody>\n",
              "    <tr>\n",
              "      <th>Siemens</th>\n",
              "      <td>15</td>\n",
              "    </tr>\n",
              "    <tr>\n",
              "      <th>Tiger Analytics</th>\n",
              "      <td>12</td>\n",
              "    </tr>\n",
              "    <tr>\n",
              "      <th>Coders Brain Pvt Ltd</th>\n",
              "      <td>10</td>\n",
              "    </tr>\n",
              "    <tr>\n",
              "      <th>Response Informatics</th>\n",
              "      <td>10</td>\n",
              "    </tr>\n",
              "    <tr>\n",
              "      <th>Deutsche Bank</th>\n",
              "      <td>7</td>\n",
              "    </tr>\n",
              "    <tr>\n",
              "      <th>Essenware</th>\n",
              "      <td>7</td>\n",
              "    </tr>\n",
              "    <tr>\n",
              "      <th>IBM</th>\n",
              "      <td>6</td>\n",
              "    </tr>\n",
              "    <tr>\n",
              "      <th>GSK India</th>\n",
              "      <td>6</td>\n",
              "    </tr>\n",
              "    <tr>\n",
              "      <th>KPMG Global Services Private Limited</th>\n",
              "      <td>6</td>\n",
              "    </tr>\n",
              "    <tr>\n",
              "      <th>PwC</th>\n",
              "      <td>6</td>\n",
              "    </tr>\n",
              "  </tbody>\n",
              "</table>\n",
              "</div>"
            ],
            "text/plain": [
              "                                      Company Name\n",
              "Siemens                                         15\n",
              "Tiger Analytics                                 12\n",
              "Coders Brain Pvt Ltd                            10\n",
              "Response Informatics                            10\n",
              "Deutsche Bank                                    7\n",
              "Essenware                                        7\n",
              "IBM                                              6\n",
              "GSK India                                        6\n",
              "KPMG Global Services Private Limited             6\n",
              "PwC                                              6"
            ]
          },
          "execution_count": 189,
          "metadata": {},
          "output_type": "execute_result"
        }
      ],
      "source": [
        "pd.DataFrame(jobs['Company Name'].value_counts()[:10])"
      ]
    },
    {
      "cell_type": "markdown",
      "id": "d2a66f85",
      "metadata": {
        "id": "d2a66f85"
      },
      "source": [
        "### Distribution of company ratings in the dataset"
      ]
    },
    {
      "cell_type": "code",
      "execution_count": null,
      "id": "d4d206cd",
      "metadata": {
        "id": "d4d206cd"
      },
      "outputs": [],
      "source": [
        "df['Rating'] = df['Rating'].astype('float')"
      ]
    },
    {
      "cell_type": "code",
      "execution_count": null,
      "id": "b9c6f4cc",
      "metadata": {
        "id": "b9c6f4cc",
        "outputId": "81f6c928-2bc4-4041-9fa4-3c5360010f1f"
      },
      "outputs": [
        {
          "data": {
            "image/png": "[encoded data removed]",
            "text/plain": [
              "<Figure size 720x360 with 1 Axes>"
            ]
          },
          "metadata": {
            "needs_background": "light"
          },
          "output_type": "display_data"
        }
      ],
      "source": [
        "import matplotlib.pyplot as plt\n",
        "import seaborn as sns\n",
        "plt.figure(figsize=(10,5))\n",
        "sns.histplot(data=df,x='Rating')\n",
        "plt.show()"
      ]
    },
    {
      "cell_type": "markdown",
      "id": "e8bb309d",
      "metadata": {
        "id": "e8bb309d"
      },
      "source": [
        "From the distribution of rating of company ,we can say mostly companies have 3 to 4.5 rating."
      ]
    },
    {
      "cell_type": "markdown",
      "id": "47ad6ace",
      "metadata": {
        "id": "47ad6ace"
      },
      "source": [
        "### Distribution of salary"
      ]
    },
    {
      "cell_type": "code",
      "execution_count": null,
      "id": "a26331ec",
      "metadata": {
        "id": "a26331ec",
        "outputId": "d949f489-02b0-4583-9968-99c3cf39a1de"
      },
      "outputs": [
        {
          "data": {
            "text/html": [
              "<div>\n",
              "<style scoped>\n",
              "    .dataframe tbody tr th:only-of-type {\n",
              "        vertical-align: middle;\n",
              "    }\n",
              "\n",
              "    .dataframe tbody tr th {\n",
              "        vertical-align: top;\n",
              "    }\n",
              "\n",
              "    .dataframe thead th {\n",
              "        text-align: right;\n",
              "    }\n",
              "</style>\n",
              "<table border=\"1\" class=\"dataframe\">\n",
              "  <thead>\n",
              "    <tr style=\"text-align: right;\">\n",
              "      <th></th>\n",
              "      <th>Salary</th>\n",
              "    </tr>\n",
              "  </thead>\n",
              "  <tbody>\n",
              "    <tr>\n",
              "      <th>Not disclosed</th>\n",
              "      <td>641</td>\n",
              "    </tr>\n",
              "    <tr>\n",
              "      <th>Less than 5,000-5,000 PA</th>\n",
              "      <td>2</td>\n",
              "    </tr>\n",
              "    <tr>\n",
              "      <th>5-8 Lacs PA</th>\n",
              "      <td>2</td>\n",
              "    </tr>\n",
              "    <tr>\n",
              "      <th>3-4 Lacs PA</th>\n",
              "      <td>2</td>\n",
              "    </tr>\n",
              "    <tr>\n",
              "      <th>4-6 Lacs PA</th>\n",
              "      <td>2</td>\n",
              "    </tr>\n",
              "  </tbody>\n",
              "</table>\n",
              "</div>"
            ],
            "text/plain": [
              "                          Salary\n",
              "Not disclosed                641\n",
              "Less than 5,000-5,000 PA       2\n",
              "5-8 Lacs PA                    2\n",
              "3-4 Lacs PA                    2\n",
              "4-6 Lacs PA                    2"
            ]
          },
          "execution_count": 194,
          "metadata": {},
          "output_type": "execute_result"
        }
      ],
      "source": [
        "pd.DataFrame(jobs.Salary.value_counts())[:5]"
      ]
    },
    {
      "cell_type": "markdown",
      "id": "69f220bd",
      "metadata": {
        "id": "69f220bd"
      },
      "source": [
        "In This table of salary Distribution we notice that mostly companies does'not disclose salary."
      ]
    },
    {
      "cell_type": "markdown",
      "id": "a91ef048",
      "metadata": {
        "id": "a91ef048"
      },
      "source": [
        "### majority of data science jobs located"
      ]
    },
    {
      "cell_type": "code",
      "execution_count": null,
      "id": "50771440",
      "metadata": {
        "id": "50771440",
        "outputId": "3521b612-4548-406e-96e0-093eb81625b9"
      },
      "outputs": [
        {
          "data": {
            "text/html": [
              "<div>\n",
              "<style scoped>\n",
              "    .dataframe tbody tr th:only-of-type {\n",
              "        vertical-align: middle;\n",
              "    }\n",
              "\n",
              "    .dataframe tbody tr th {\n",
              "        vertical-align: top;\n",
              "    }\n",
              "\n",
              "    .dataframe thead th {\n",
              "        text-align: right;\n",
              "    }\n",
              "</style>\n",
              "<table border=\"1\" class=\"dataframe\">\n",
              "  <thead>\n",
              "    <tr style=\"text-align: right;\">\n",
              "      <th></th>\n",
              "      <th>Location</th>\n",
              "      <th>count of Jobs</th>\n",
              "    </tr>\n",
              "  </thead>\n",
              "  <tbody>\n",
              "    <tr>\n",
              "      <th>0</th>\n",
              "      <td>Bangalore/Bengaluru</td>\n",
              "      <td>176</td>\n",
              "    </tr>\n",
              "    <tr>\n",
              "      <th>1</th>\n",
              "      <td>Mumbai</td>\n",
              "      <td>61</td>\n",
              "    </tr>\n",
              "    <tr>\n",
              "      <th>2</th>\n",
              "      <td>Hyderabad/Secunderabad</td>\n",
              "      <td>54</td>\n",
              "    </tr>\n",
              "    <tr>\n",
              "      <th>3</th>\n",
              "      <td>Remote</td>\n",
              "      <td>42</td>\n",
              "    </tr>\n",
              "    <tr>\n",
              "      <th>4</th>\n",
              "      <td>Pune</td>\n",
              "      <td>38</td>\n",
              "    </tr>\n",
              "    <tr>\n",
              "      <th>5</th>\n",
              "      <td>Chennai</td>\n",
              "      <td>30</td>\n",
              "    </tr>\n",
              "    <tr>\n",
              "      <th>6</th>\n",
              "      <td>Gurgaon/Gurugram</td>\n",
              "      <td>30</td>\n",
              "    </tr>\n",
              "  </tbody>\n",
              "</table>\n",
              "</div>"
            ],
            "text/plain": [
              "                 Location  count of Jobs\n",
              "0     Bangalore/Bengaluru            176\n",
              "1                  Mumbai             61\n",
              "2  Hyderabad/Secunderabad             54\n",
              "3                  Remote             42\n",
              "4                    Pune             38\n",
              "5                 Chennai             30\n",
              "6        Gurgaon/Gurugram             30"
            ]
          },
          "execution_count": 219,
          "metadata": {},
          "output_type": "execute_result"
        }
      ],
      "source": [
        "top_10_location = jobs.groupby('Location',as_index=False)['Title'].count().rename(columns={'Title':'count of Jobs'}).sort_values('count of Jobs',ascending=False)[:7].reset_index(drop=True)\n",
        "top_10_location"
      ]
    },
    {
      "cell_type": "code",
      "execution_count": null,
      "id": "26900576",
      "metadata": {
        "id": "26900576",
        "outputId": "dfa27f0a-7576-4182-d098-3789b8607e04"
      },
      "outputs": [
        {
          "data": {
            "image/png": "[encoded data removed]",
            "text/plain": [
              "<Figure size 1000x700 with 1 Axes>"
            ]
          },
          "metadata": {
            "needs_background": "light"
          },
          "output_type": "display_data"
        }
      ],
      "source": [
        "plt.figure(figsize=(10,7),dpi=100)\n",
        "sns.barplot(data=top_10_location,y='Location',x='count of Jobs')\n",
        "plt.show()"
      ]
    },
    {
      "cell_type": "markdown",
      "id": "bc463295",
      "metadata": {
        "id": "bc463295"
      },
      "source": [
        "- From this chart Bangalore has maximum number of jobs in data science field."
      ]
    }
  ],
  "metadata": {
    "kernelspec": {
      "display_name": "Python 3 (ipykernel)",
      "language": "python",
      "name": "python3"
    },
    "language_info": {
      "codemirror_mode": {
        "name": "ipython",
        "version": 3
      },
      "file_extension": ".py",
      "mimetype": "text/x-python",
      "name": "python",
      "nbconvert_exporter": "python",
      "pygments_lexer": "ipython3",
      "version": "3.9.12"
    },
    "colab": {
      "provenance": []
    }
  },
  "nbformat": 4,
  "nbformat_minor": 5
}